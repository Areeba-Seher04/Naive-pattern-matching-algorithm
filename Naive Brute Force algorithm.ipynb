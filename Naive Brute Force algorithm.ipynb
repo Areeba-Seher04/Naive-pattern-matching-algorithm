{
 "cells": [
  {
   "cell_type": "code",
   "execution_count": 2,
   "metadata": {},
   "outputs": [
    {
     "name": "stdout",
     "output_type": "stream",
     "text": [
      "pattern found at index 0\n",
      "pattern found at index 9\n",
      "pattern found at index 13\n"
     ]
    }
   ],
   "source": [
    "def pma (text,patt):\n",
    "    t=len(text)\n",
    "    p=len(patt)\n",
    "    for i in range(t-p+1):\n",
    "        \n",
    "        for j in range(p):\n",
    "            if patt[j]==text[i+j]:\n",
    "                if j==p-1:\n",
    "                   print(\"pattern found at index\",i)\n",
    "                else:\n",
    "                   continue\n",
    "            else:\n",
    "                break\n",
    "text = \"AABAACAADAABAAABAA\"\n",
    "\n",
    "string = \"AABA\"\n",
    "            \n",
    "pma(text,string)"
   ]
  },
  {
   "cell_type": "code",
   "execution_count": null,
   "metadata": {},
   "outputs": [],
   "source": []
  }
 ],
 "metadata": {
  "kernelspec": {
   "display_name": "Python 3",
   "language": "python",
   "name": "python3"
  },
  "language_info": {
   "codemirror_mode": {
    "name": "ipython",
    "version": 3
   },
   "file_extension": ".py",
   "mimetype": "text/x-python",
   "name": "python",
   "nbconvert_exporter": "python",
   "pygments_lexer": "ipython3",
   "version": "3.6.7"
  }
 },
 "nbformat": 4,
 "nbformat_minor": 2
}
